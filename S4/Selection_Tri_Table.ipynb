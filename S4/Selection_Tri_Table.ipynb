{
  "nbformat": 4,
  "nbformat_minor": 0,
  "metadata": {
    "colab": {
      "name": "S4_Selection_Tri_Table.ipynb",
      "provenance": [],
      "authorship_tag": "ABX9TyORTKiOiamJpqEx+JsUs0By",
      "include_colab_link": true
    },
    "kernelspec": {
      "name": "python3",
      "display_name": "Python 3"
    },
    "language_info": {
      "name": "python"
    }
  },
  "cells": [
    {
      "cell_type": "markdown",
      "source": [
        "[ouvrir avec Basthon](https://notebook.basthon.fr/?from=https://raw.githubusercontent.com/thfruchart/1nsi/main/S4/Selection_Tri_Table.ipynb)"
      ],
      "metadata": {
        "id": "9k1nFoexzjD5"
      }
    },
    {
      "cell_type": "markdown",
      "source": [
        "On a importé dans une variable `table` le contenu d'un fichier `sacs.csv` contenant la description d'une dizaine de sacs.\n",
        "\n",
        "L'objectif de ce notebook est de présenter deux opérations sur la table obtenue : \n",
        "* sélection\n",
        "* tri"
      ],
      "metadata": {
        "id": "iczqEGhngdYj"
      }
    },
    {
      "cell_type": "code",
      "execution_count": null,
      "metadata": {
        "id": "u_ye5QjfeqyX"
      },
      "outputs": [],
      "source": [
        "table = [['id', 'nom', 'longueur', 'largeur', 'hauteur', 'couleur', 'poids', 'prix_HT', 'fabrique en France'], \n",
        "         ['1', 'trousse', '20', '6', '7', 'bleu', '150', '18', 'oui'], \n",
        "         ['2', 'polochon', '50', '25', '25', 'rouge', '450', '79', 'oui'], \n",
        "         ['3', 'cabas', '35', '14', '30', 'bleu', '330', '95', 'non'], \n",
        "         ['4', 'besace', '24', '21', '9', 'marron', '500', '84', 'oui'], \n",
        "         ['5', 'banane', '23', '9', '13', 'noir', '260', '28', 'oui'], \n",
        "         ['6', 'baluchon', '61', '38', '22', 'beige', '900', '145', 'non'], \n",
        "         ['7', 'sac à dos', '30', '40', '18', 'gris', '375', '50', 'oui'], \n",
        "         ['8', 'seau', '24', '25', '13.5', 'noir', '430', '110', 'oui'], \n",
        "         ['9', 'wrist bag', '27', '16.5', '3.5', 'bleu', '125', '28', 'non'], \n",
        "         ['10', 'minaudiere', '23', '5', '8', 'noir', '160', '35', 'oui']]"
      ]
    },
    {
      "cell_type": "markdown",
      "source": [
        "## Sélection"
      ],
      "metadata": {
        "id": "GFV-b-6yuXAK"
      }
    },
    {
      "cell_type": "markdown",
      "source": [
        "### question 1\n",
        "En observant le code de la cellule suivante : que peut-on en déduire sur l'argument `critere` de la fonction `selectionner`?"
      ],
      "metadata": {
        "id": "AJrlODi_fJSs"
      }
    },
    {
      "cell_type": "code",
      "source": [
        "def selectionner(table, critere):\n",
        "    selection = []\n",
        "    for i in range(1, len(table)):\n",
        "        if critere(table[i]):\n",
        "            selection.append(table[i])\n",
        "    return selection"
      ],
      "metadata": {
        "id": "DDVB5rDAe_db"
      },
      "execution_count": null,
      "outputs": []
    },
    {
      "cell_type": "markdown",
      "source": [
        "... "
      ],
      "metadata": {
        "id": "IAGVxhpUfceo"
      }
    },
    {
      "cell_type": "markdown",
      "source": [
        "### question 2\n",
        "Compléter le code de la fonction `madeinfrance` qui : \n",
        "\n",
        "*  prend un argument `sac`, de type `list`, décrivant un des sacs de la table, \n",
        "*  renvoie `True` si le sac est fabriqué en France, et `False` sinon."
      ],
      "metadata": {
        "id": "Y9KzIn1Ifk9q"
      }
    },
    {
      "cell_type": "code",
      "source": [
        "def madeinfrance(sac):\n",
        "    if ...  : \n",
        "        return True\n",
        "    else : \n",
        "        return False\n",
        "\n",
        "\n",
        "# essai avec le premier sac:\n",
        "print(madeinfrance(['1', 'trousse', '20', '6', '7', 'bleu', '150', '18', 'oui']))\n",
        "# essai avec le troisième sac : \n",
        "print(madeinfrance(['3', 'cabas', '35', '14', '30', 'bleu', '330', '95', 'non']))"
      ],
      "metadata": {
        "colab": {
          "base_uri": "https://localhost:8080/"
        },
        "id": "b4NPvVXrgFLT",
        "outputId": "d21c3ed5-9808-4457-82a7-1a1e6a408451"
      },
      "execution_count": null,
      "outputs": [
        {
          "output_type": "stream",
          "name": "stdout",
          "text": [
            "True\n",
            "False\n"
          ]
        }
      ]
    },
    {
      "cell_type": "markdown",
      "source": [
        "### question 3\n",
        "Ecrire une instruction permettant d'obtenir la liste de tous les sacs de la table qui sont fabriqués en France."
      ],
      "metadata": {
        "id": "uUiEnZNXhxTD"
      }
    },
    {
      "cell_type": "code",
      "source": [
        ""
      ],
      "metadata": {
        "id": "FwZvMnT7h6Tn"
      },
      "execution_count": null,
      "outputs": []
    },
    {
      "cell_type": "markdown",
      "source": [
        "### question 4\n",
        "En vous inspirant des questions précédentes, écrire une fonction, et une instruction permettant d'obtenir la **liste des sacs bleus**."
      ],
      "metadata": {
        "id": "Bvi7hOfjh6yr"
      }
    },
    {
      "cell_type": "code",
      "source": [
        ""
      ],
      "metadata": {
        "id": "lyhg3o0-uSzV"
      },
      "execution_count": null,
      "outputs": []
    },
    {
      "cell_type": "markdown",
      "source": [
        "## Tri"
      ],
      "metadata": {
        "id": "YSVmF5IlvNxi"
      }
    },
    {
      "cell_type": "markdown",
      "source": [
        "On peut utiliser le tri par insertion ou le tri par sélection.\n",
        "\n",
        "On présente ici **l'usage basique** de la fonction `sorted` de Python : exécuter les cellules suivantes pour comprendre son fonctionnement."
      ],
      "metadata": {
        "id": "qDNNBBj5vR1F"
      }
    },
    {
      "cell_type": "code",
      "source": [
        "sorted([10,50,30,40])"
      ],
      "metadata": {
        "id": "TPL_xXjNvdki"
      },
      "execution_count": null,
      "outputs": []
    },
    {
      "cell_type": "code",
      "source": [
        "sorted(['10','20','5','311'])"
      ],
      "metadata": {
        "id": "y0yA95U4vg3n"
      },
      "execution_count": null,
      "outputs": []
    },
    {
      "cell_type": "code",
      "source": [
        "sorted([[10,20], [9,500], [11,0], [10,15]])"
      ],
      "metadata": {
        "id": "zZP3Z9MRvpGX"
      },
      "execution_count": null,
      "outputs": []
    },
    {
      "cell_type": "code",
      "source": [
        "t1 = [15,25,20,10,5]\n",
        "t2 = sorted(t1)\n",
        "\n",
        "print(t1)\n",
        "print(t2)"
      ],
      "metadata": {
        "id": "r2GRQdeiv1Lx"
      },
      "execution_count": null,
      "outputs": []
    },
    {
      "cell_type": "markdown",
      "source": [
        "* La fonction `sorted` renvoie un tableau trié, sans modifier le tableau d'origine.\n",
        "* l'ordre de tri est l'ordre croissant : attention, l'ordre croissant sur les nombres n'est pas identique à l'ordre croissant sur les textes.\n",
        "* dans le cas d'une liste de listes, c'est le premier élément de chaque liste qui sert de critère de tri (puis le second... etc)."
      ],
      "metadata": {
        "id": "e9jtECbEwL_K"
      }
    },
    {
      "cell_type": "code",
      "source": [
        "help(sorted)"
      ],
      "metadata": {
        "id": "hrYdyrR7xQSL"
      },
      "execution_count": null,
      "outputs": []
    },
    {
      "cell_type": "markdown",
      "source": [
        "Exemple de \"custom key function\""
      ],
      "metadata": {
        "id": "VnKUFejDxptc"
      }
    },
    {
      "cell_type": "code",
      "source": [
        "def nom(sac):\n",
        "    return sac[1]\n",
        "\n",
        "# essai avec le premier sac:\n",
        "print(nom(['1', 'trousse', '20', '6', '7', 'bleu', '150', '18', 'oui']))\n",
        "# essai avec le troisième sac : \n",
        "print(nom(['3', 'cabas', '35', '14', '30', 'bleu', '330', '95', 'non']))"
      ],
      "metadata": {
        "id": "fTvNfnvGxRnZ"
      },
      "execution_count": null,
      "outputs": []
    },
    {
      "cell_type": "code",
      "source": [
        "sorted(table, key=nom)"
      ],
      "metadata": {
        "id": "ZJ5vT10ox-hS"
      },
      "execution_count": null,
      "outputs": []
    },
    {
      "cell_type": "code",
      "source": [
        "sorted(table[1:], key=nom)"
      ],
      "metadata": {
        "id": "yc5cvnRdyHD1"
      },
      "execution_count": null,
      "outputs": []
    },
    {
      "cell_type": "markdown",
      "source": [
        "### question 5\n",
        "En vous inspirant de l'exemple ci-dessus, écrire une fonction et une instruction python permettant d'obtenir la liste des sacs triés par longueur croissante."
      ],
      "metadata": {
        "id": "BkPiXW3qyQGv"
      }
    },
    {
      "cell_type": "code",
      "source": [
        ""
      ],
      "metadata": {
        "id": "abiCChcfyiyq"
      },
      "execution_count": null,
      "outputs": []
    },
    {
      "cell_type": "markdown",
      "source": [
        "### question 6\n",
        "Faire de même pour obtenir la liste des sacs, triés par **prix** décroissant."
      ],
      "metadata": {
        "id": "VWNRhsqMyjng"
      }
    },
    {
      "cell_type": "code",
      "source": [
        ""
      ],
      "metadata": {
        "id": "jEGlx_I4y_M5"
      },
      "execution_count": null,
      "outputs": []
    },
    {
      "cell_type": "markdown",
      "source": [
        "### question 7\n",
        "Faire de même pour obtenir la liste des sacs, triés par **capacité** croissante. "
      ],
      "metadata": {
        "id": "bjQCrJAeywtJ"
      }
    },
    {
      "cell_type": "code",
      "source": [
        ""
      ],
      "metadata": {
        "id": "74F2T-CQy_m8"
      },
      "execution_count": null,
      "outputs": []
    }
  ]
}
